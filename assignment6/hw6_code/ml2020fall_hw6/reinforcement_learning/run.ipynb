{
 "cells": [
  {
   "cell_type": "markdown",
   "metadata": {},
   "source": [
    "# Reinforcement Learning\n",
    "*Complete and hand in this completed worksheet (including its outputs and any supporting code outside of the worksheet) with your assignment submission. Please check the pdf file for more details.*\n",
    "\n",
    "In this exercise you will:\n",
    "\n",
    "- implement Q-learning on a few different control tasks from the OpenAI Gym benchmark suite\n",
    "- implement approximators for (potentially) infinite and continous MDP, including linear approximator and neural networks\n",
    "- explore some popular tricks in RL, including exploration/exploitability trade-off, experience replay.\n",
    "\n",
    "Please note that **YOU CANNOT USE ANY MACHINE LEARNING PACKAGE SUCH AS SKLEARN** for any homework, unless you are asked to."
   ]
  },
  {
   "cell_type": "code",
   "execution_count": 1,
   "metadata": {},
   "outputs": [],
   "source": [
    "# some basic imports\n",
    "import os\n",
    "os.environ['KMP_DUPLICATE_LIB_OK']= 'True'\n",
    "import scipy\n",
    "import pandas as pd\n",
    "import numpy as np\n",
    "import matplotlib.pyplot as plt\n",
    "import math\n",
    "try:\n",
    "    import gym\n",
    "except:\n",
    "    import sys\n",
    "    !{sys.executable} -m pip install gym --user\n",
    "    import gym\n",
    "from IPython.display import display, clear_output\n",
    "import time\n",
    "import random\n",
    "\n",
    "%matplotlib inline\n",
    "\n",
    "%load_ext autoreload\n",
    "%autoreload 2"
   ]
  },
  {
   "cell_type": "markdown",
   "metadata": {},
   "source": [
    "## Let's first get to know the gym benchmark\n",
    "\n",
    "The [Gym](http://gym.openai.com/) is a famous benchmark suite from OpenAI. It provides some handful environments to play with the agents/algorithms you design."
   ]
  },
  {
   "cell_type": "code",
   "execution_count": 2,
   "metadata": {},
   "outputs": [
    {
     "output_type": "display_data",
     "data": {
      "text/plain": "<IPython.core.display.HTML object>",
      "text/html": "<style>\ntable {float:left}\n</style>\n"
     },
     "metadata": {}
    }
   ],
   "source": [
    " %%html\n",
    "<style>\n",
    "table {float:left}\n",
    "</style>"
   ]
  },
  {
   "cell_type": "markdown",
   "metadata": {},
   "source": [
    "Let's first play with a simple environment which is discrete and finite."
   ]
  },
  {
   "cell_type": "markdown",
   "metadata": {},
   "source": [
    "## Freeze Lake\n",
    "Winter is here. You and your friends were tossing around a frisbee at the park when you made a wild throw that left the frisbee out in the middle of the lake. The water is mostly frozen, but there are a few holes where the ice has melted. If you step into one of those holes, you'll fall into the freezing water. At this time, there's an international frisbee shortage, so it's absolutely imperative that you navigate across the lake and retrieve the disc. However, the ice is slippery, so you won't always move in the direction you intend.\n",
    "\n",
    "The surface is described using a grid like the following:\n",
    "\n",
    "| | |\n",
    "|:---|:---|\n",
    "|SFFF| (S: starting point, safe)|\n",
    "|FHFH| (F: frozen surface, safe)|\n",
    "|FFFH| (H: hole, fall to your doom)|\n",
    "|HFFG| (G: goal, where the frisbee is located)|  \n",
    "\n",
    "\n",
    "The episode ends when you reach the goal or fall in a hole. You receive a reward of 1 if you reach the goal, and zero otherwise."
   ]
  },
  {
   "cell_type": "markdown",
   "metadata": {},
   "source": [
    "Have a look at the simple version of this problem below. In the following environment, the ice is not slippery, so you can always move in the direction you intend."
   ]
  },
  {
   "cell_type": "code",
   "execution_count": 3,
   "metadata": {},
   "outputs": [
    {
     "output_type": "stream",
     "name": "stdout",
     "text": [
      "  (Down)\nSFFF\nF\u001b[41mH\u001b[0mFH\nFFFH\nHFFG\n"
     ]
    },
    {
     "output_type": "display_data",
     "data": {
      "text/plain": "None"
     },
     "metadata": {}
    }
   ],
   "source": [
    "env = gym.make('FrozenLake-v0', is_slippery=False)\n",
    "env.reset()\n",
    "display(env.render())\n",
    "max_steps = 100\n",
    "for step in range(max_steps):\n",
    "    # take a random action\n",
    "    action = env.action_space.sample()\n",
    "    clear_output(wait=True)\n",
    "    # take the action and observe the outcome state and reward\n",
    "    new_state, reward, done, info = env.step(action)\n",
    "    display(env.render())\n",
    "    time.sleep(1)\n",
    "    state = new_state\n",
    "    if done:\n",
    "        break\n",
    "env.close()"
   ]
  },
  {
   "cell_type": "markdown",
   "metadata": {},
   "source": [
    "We can evaluate the expected reward for such a random policy."
   ]
  },
  {
   "cell_type": "code",
   "execution_count": 4,
   "metadata": {
    "scrolled": true
   },
   "outputs": [
    {
     "output_type": "stream",
     "name": "stdout",
     "text": [
      "In episode 66, we takes 9 steps to succeed!\nIn episode 93, we takes 11 steps to succeed!\nIn episode 121, we takes 9 steps to succeed!\nIn episode 180, we takes 21 steps to succeed!\nIn episode 227, we takes 11 steps to succeed!\nIn episode 234, we takes 11 steps to succeed!\nIn episode 319, we takes 6 steps to succeed!\nIn episode 532, we takes 13 steps to succeed!\nIn episode 633, we takes 9 steps to succeed!\nIn episode 654, we takes 14 steps to succeed!\nIn episode 815, we takes 12 steps to succeed!\nIn episode 826, we takes 8 steps to succeed!\nIn episode 827, we takes 10 steps to succeed!\nIn episode 914, we takes 14 steps to succeed!\nIn episode 988, we takes 6 steps to succeed!\nThe expected reward of each episode is 0.015, and the average steps to succeed is 10.933333333333334\n"
     ]
    }
   ],
   "source": [
    "env = gym.make('FrozenLake-v0',is_slippery=False)\n",
    "total_episode = 1000\n",
    "total_reward = 0\n",
    "total_steps = 0\n",
    "max_steps = 100\n",
    "\n",
    "for episode in range(total_episode):\n",
    "    env.reset()\n",
    "    for step in range(max_steps):\n",
    "        # take a random action\n",
    "        action = env.action_space.sample()\n",
    "        new_state, reward, done, info = env.step(action)\n",
    "        state = new_state\n",
    "        if done:\n",
    "            if reward == 1.0:\n",
    "                print('In episode {}, we takes {} steps to succeed!'.format(episode, step + 1))\n",
    "                total_reward += reward\n",
    "                total_steps += step + 1\n",
    "            break\n",
    "env.close()\n",
    "print('The expected reward of each episode is {}, and the average steps to succeed is {}'\n",
    "      .format(total_reward / total_episode, total_steps / total_reward\n",
    "             ))"
   ]
  },
  {
   "cell_type": "markdown",
   "metadata": {},
   "source": [
    "As you can see, even for this simple version, the random policy obviously works terribly.\n",
    "\n",
    "Now let's try to crack this environment with reinforcement learning!\n",
    "\n",
    "Let's implement Q-learning algorithm with Monte Carlo methods!"
   ]
  },
  {
   "cell_type": "markdown",
   "metadata": {},
   "source": [
    "First let's breifly review the bellman equation for Q-learning algorithm.\n",
    "The derivation is actually simple.\n",
    "\n",
    "Considering a specific action $a$ at each state, we have:\n",
    "\n",
    "$Q(s_t, a_t)=R_{t+1}+\\gamma Q(s_{t+1}, a_{t+1})$\n",
    "\n",
    "Also, in state $s_{t+1}$, we would like to choose the action with the max expected reward, that is:\n",
    "\n",
    "$a_{t+1}=argmax_a Q(s_{t+1}, a)$\n",
    "\n",
    "As a result:\n",
    "\n",
    "$Q(s_{t+1}, a_{t+1}) = max_aQ(s_{t+1}, a)$\n",
    "\n",
    "Thus, we get the updated value:\n",
    "\n",
    "$Q(s_t, a_t)=R_{t+1}+\\gamma max_aQ(s_{t+1}, a)$\n",
    "\n",
    "Recall that in Monte Carlo method, we only update the q-value with a small $\\alpha$, i.e.:\n",
    "\n",
    "$Q(s_t, a_t)=Q(s_t, a_t)+\\alpha\\delta_Q=Q(s_t, a_t)+\\alpha(R_{t+1}+\\gamma max_a(Q(s_{t+1}, a)) - Q(s_t, a_t))$\n",
    "\n",
    "which is exactly the updated equation we will use for Q-learning.\n",
    "\n",
    "Please first complete the *bellman_equation_update* function in *qTable.py* bellow to this formula."
   ]
  },
  {
   "cell_type": "markdown",
   "metadata": {},
   "source": [
    "Now let's implement Q-learning for this problem. This is basically updating the *qtable* with the *bellman_equation_update*.\n",
    "\n",
    "### TODO: Please implement the QTable class in *qTable.py*."
   ]
  },
  {
   "cell_type": "code",
   "execution_count": 5,
   "metadata": {
    "scrolled": true
   },
   "outputs": [
    {
     "output_type": "stream",
     "name": "stdout",
     "text": [
      "Average reward is 0.01, average step is 7.74\n[[0.  0.  0.  0. ]\n [0.  0.  0.  0. ]\n [0.  0.  0.  0. ]\n [0.  0.  0.  0. ]\n [0.  0.  0.  0. ]\n [0.  0.  0.  0. ]\n [0.  0.  0.  0. ]\n [0.  0.  0.  0. ]\n [0.  0.  0.  0. ]\n [0.  0.  0.  0. ]\n [0.  0.  0.  0. ]\n [0.  0.  0.  0. ]\n [0.  0.  0.  0. ]\n [0.  0.  0.  0. ]\n [0.  0.  0.8 0. ]\n [0.  0.  0.  0. ]]\n"
     ]
    }
   ],
   "source": [
    "from qTable import QTable\n",
    "\n",
    "env = gym.make('FrozenLake-v0', is_slippery=False)\n",
    "action_size = env.action_space.n\n",
    "state_size = env.observation_space.n\n",
    "total_episode = 100\n",
    "gamma = 0.95 # discounting rate\n",
    "alpha = 0.8 # learning rate for Q-learning\n",
    "max_steps = 100\n",
    "\n",
    "qTable = QTable(state_size, action_size, alpha, gamma)\n",
    "qTable.train(env, total_episode, max_steps)\n",
    "print(qTable.qtable)\n",
    "env.close()"
   ]
  },
  {
   "cell_type": "markdown",
   "metadata": {},
   "source": [
    "However, there is no episode that successfully reaches the goal position! Why? Try to think about it yourself before looking at the answers in the next cell."
   ]
  },
  {
   "cell_type": "markdown",
   "metadata": {},
   "source": [
    "There are two reasons. The first (and not so important) reason is that qTable.qtable is initialized to be all zeros. As a result, the agent would always take one action and cannot update its qtable as it can never reach the goal grid. To deal with the problem, you can initialize the qTable.qtable with random numbers. If you are lucky enough, you may get some successful episodes. But try to rerun the cell for multiple times, you will find that the agent still cannot reach the goal grid for most episode.\n",
    "\n",
    "The second (and important) reason is that at the beginning of the training process, the *qtable* is extremely noisy. If we rely on it to make decision for each step, then it is very likely that we cannot reach the goal position. Moreover, as we cannot get the reward, the *bellman_equation* cannot effectively update the *qtable*, and we may end up with no succesful episode.\n",
    "\n",
    "This is exactly the reason we employ $\\epsilon$-greedy strategy for the training process. Recall that $\\epsilon$-greedy strategy means that the agent, in every state, takes random actions with a $\\epsilon$ probability while takes the optimal action with a $1-\\epsilon$ probability. Actually, this is often called **exploration** in reinforcement learning. At the beginning of the training process, the agent should explore the environment (maybe aggressively) to discover actions that lead to high rewards: this is a key component of reinforcement learning. In this case, the $\\epsilon$ should be large. After some training iterations, the agent should be more clever to take good actions, and thus we can take a smaller $\\epsilon$ to decrease the exploration. This is often called **exploitation** in reinforcement learning, as we try to exploit the existing policy/qtable. The exploration and exploitation trade-off is often a key trade-off in reinforcement learning. Briefly speaking, in the beginning of training, the agent should focus more on the exploration to train a good policy; as training goes by, the agent should pay more and more attention on exploitability. In practice, we often use a exponential decay strategy to decay the exploration probability.\n",
    "\n",
    "### TODO: Add the epsilon-greedy strategy in the *QTable* class."
   ]
  },
  {
   "cell_type": "code",
   "execution_count": 6,
   "metadata": {
    "scrolled": true,
    "tags": []
   },
   "outputs": [
    {
     "output_type": "stream",
     "name": "stdout",
     "text": [
      "Average reward is 0.9335, average step is 6.113\n[[0.72921116 0.77378094 0.69650486 0.73391574]\n [0.73485666 0.         0.26689741 0.        ]\n [0.         0.63212544 0.         0.        ]\n [0.         0.         0.         0.        ]\n [0.77254289 0.81450625 0.         0.73509001]\n [0.         0.         0.         0.        ]\n [0.         0.86984009 0.         0.        ]\n [0.         0.         0.         0.        ]\n [0.81424561 0.         0.857375   0.77377896]\n [0.81424561 0.9025     0.89450969 0.        ]\n [0.         0.94999973 0.         0.        ]\n [0.         0.         0.         0.        ]\n [0.         0.         0.         0.        ]\n [0.         0.901056   0.95       0.850516  ]\n [0.90244224 0.94848    1.         0.89512594]\n [0.         0.         0.         0.        ]]\n"
     ]
    }
   ],
   "source": [
    "from qTable import QTable\n",
    "\n",
    "env = gym.make('FrozenLake-v0',is_slippery=False)\n",
    "\n",
    "total_episode = 2000\n",
    "\n",
    "gamma = 0.95                  # discounting rate\n",
    "alpha = 0.8                   # learning rate for Q-learning\n",
    "max_steps = 100\n",
    "\n",
    "# exploration parameters\n",
    "epsilon = 1.0                 # the initial exploration probability\n",
    "min_epsilon = 0.5             # the minimum exploration probability \n",
    "epsilon_decay = 0.5           # the exponential decay rate for exploration prob\n",
    "\n",
    "# Your code here: tune the epsilon, min_epsilon, epsilon_decay yourself to make the testing average reward of your\n",
    "# agent be higher than 0.8.\n",
    "# If may be helpful for you to print out the reward and steps for each episode\n",
    "# to understand whether you require more exploration or exploitation.\n",
    "# Basically, the higher the epsilon_decay, the more exploration you have in the beginning\n",
    "# of training.\n",
    "# It is very imporant for you to practice itself to get a sense of the exploration\n",
    "# and exploitation trade-off.\n",
    "# begin answer\n",
    "epsilon = 1.0       \n",
    "min_epsilon = 0.01   \n",
    "epsilon_decay = 0.9 \n",
    "# end answer\n",
    "\n",
    "qTable = QTable(state_size, action_size, alpha, gamma,\n",
    "               init_epsilon=epsilon,\n",
    "               min_epsilon=min_epsilon,\n",
    "               epsilon_decay=epsilon_decay)\n",
    "qTable.train(env, total_episode, max_steps)\n",
    "print(qTable.qtable)"
   ]
  },
  {
   "cell_type": "markdown",
   "metadata": {},
   "source": [
    "After training, we can now use the *qtable* for our MDP."
   ]
  },
  {
   "cell_type": "code",
   "execution_count": 7,
   "metadata": {
    "tags": []
   },
   "outputs": [
    {
     "output_type": "stream",
     "name": "stdout",
     "text": [
      "Average reward is 1.0, average step is 6.0\n"
     ]
    }
   ],
   "source": [
    "env = gym.make('FrozenLake-v0',is_slippery=False)\n",
    "\n",
    "total_episode = 1000\n",
    "\n",
    "qTable.eval(env, total_episode)"
   ]
  },
  {
   "cell_type": "markdown",
   "metadata": {},
   "source": [
    "It's also interesting to have a look at how the process works."
   ]
  },
  {
   "cell_type": "code",
   "execution_count": 8,
   "metadata": {},
   "outputs": [
    {
     "output_type": "stream",
     "name": "stdout",
     "text": [
      "  (Right)\nSFFF\nFHFH\nFFFH\nHFF\u001b[41mG\u001b[0m\n"
     ]
    },
    {
     "output_type": "display_data",
     "data": {
      "text/plain": "None"
     },
     "metadata": {}
    }
   ],
   "source": [
    "env = gym.make('FrozenLake-v0',is_slippery=False)\n",
    "state = env.reset()\n",
    "display(env.render())\n",
    "max_steps = 100\n",
    "# the table has been trained well; thus we don't need exploration\n",
    "qTable.set_epsilon(0)\n",
    "for step in range(max_steps):\n",
    "    # take a random action\n",
    "    action = qTable.take_action(state)\n",
    "    clear_output(wait=True)\n",
    "    # take the action and observe the outcome state and reward\n",
    "    new_state, reward, done, info = env.step(action)\n",
    "    display(env.render())\n",
    "    time.sleep(1)\n",
    "    state = new_state\n",
    "    if done:\n",
    "        break\n",
    "env.close()"
   ]
  },
  {
   "cell_type": "markdown",
   "metadata": {},
   "source": [
    "As you can see, in the determinstic environment, i.e. there is no slippery, the Q-learning learns the optimal strategy which can takes the minimal steps to the goal, which is desirable. Let's see how this works for slippery environment."
   ]
  },
  {
   "cell_type": "code",
   "execution_count": 9,
   "metadata": {
    "tags": []
   },
   "outputs": [
    {
     "output_type": "stream",
     "name": "stdout",
     "text": [
      "Average reward is 0.4877, average step is 34.8304\n[[2.22980783e-01 5.48784313e-02 5.43365502e-02 1.15190975e-01]\n [5.70452099e-03 1.27948760e-02 2.53174821e-05 1.31418570e-01]\n [2.64744878e-03 4.82568408e-03 7.51787078e-03 7.91436444e-02]\n [5.21811598e-03 6.77776306e-03 4.19454683e-03 2.44289382e-02]\n [2.87813276e-01 3.53916588e-02 5.16040804e-03 6.94112617e-03]\n [0.00000000e+00 0.00000000e+00 0.00000000e+00 0.00000000e+00]\n [4.64931018e-05 3.95623440e-10 5.68537680e-02 2.22791248e-06]\n [0.00000000e+00 0.00000000e+00 0.00000000e+00 0.00000000e+00]\n [2.53287844e-02 3.73636708e-02 4.83139288e-02 3.86648039e-01]\n [2.23428349e-02 2.03759626e-01 1.25964385e-02 2.01643865e-04]\n [4.88292282e-01 9.11026150e-04 1.85031524e-04 7.60687049e-04]\n [0.00000000e+00 0.00000000e+00 0.00000000e+00 0.00000000e+00]\n [0.00000000e+00 0.00000000e+00 0.00000000e+00 0.00000000e+00]\n [4.01039040e-02 6.49671877e-03 2.67889570e-01 2.41070149e-02]\n [2.60198248e-01 9.14965783e-01 9.36109443e-02 2.20654543e-01]\n [0.00000000e+00 0.00000000e+00 0.00000000e+00 0.00000000e+00]]\n"
     ]
    }
   ],
   "source": [
    "env = gym.make('FrozenLake-v0')\n",
    "action_size = env.action_space.n\n",
    "state_size = env.observation_space.n\n",
    "total_episode = 10000\n",
    "\n",
    "gamma = 0.95 # discounting rate\n",
    "alpha = 0.8 # learning rate for Q-learning\n",
    "max_steps = 100\n",
    "\n",
    "# exploration parameters\n",
    "epsilon = 1.0                 # the initial exploration probability\n",
    "min_epsilon = 0.5             # the minimum exploration probability \n",
    "epsilon_decay = 0.5           # the exponential decay rate for exploration prob\n",
    "# Your code here: tune the epsilon, min_epsilon, epsilon_decay yourself to make the testing average reward of your\n",
    "# agent be higher than 0.7.\n",
    "# If may be helpful for you to print out the reward and steps for each episode\n",
    "# to understand whether you require more exploration or exploitation.\n",
    "# Basically, the higher the epsilon_decay, the more exploration you have in the beginning\n",
    "# of training.\n",
    "# It is very imporant for you to practice itself to get a sense of the exploration\n",
    "# and exploitation trade-off.\n",
    "\n",
    "# begin answer\n",
    "epsilon = 1.0       \n",
    "min_epsilon = 0.01   \n",
    "epsilon_decay = 0.9 \n",
    "# end answer\n",
    "\n",
    "qTable = QTable(state_size, action_size, alpha, gamma,\n",
    "               init_epsilon=epsilon,\n",
    "               min_epsilon=min_epsilon,\n",
    "               epsilon_decay=epsilon_decay)\n",
    "qTable.train(env, total_episode, max_steps)\n",
    "print(qTable.qtable)\n"
   ]
  },
  {
   "cell_type": "code",
   "execution_count": 10,
   "metadata": {},
   "outputs": [
    {
     "output_type": "stream",
     "name": "stdout",
     "text": [
      "[1.0, 0.0, 1.0, 1.0, 0.0, 0.0, 1.0, 0.0, 1.0, 1.0]\n"
     ]
    }
   ],
   "source": [
    "print(qTable.reward_list[-10:])"
   ]
  },
  {
   "cell_type": "code",
   "execution_count": 11,
   "metadata": {
    "tags": []
   },
   "outputs": [
    {
     "output_type": "stream",
     "name": "stdout",
     "text": [
      "Average reward is 0.759, average step is 45.17\n"
     ]
    }
   ],
   "source": [
    "total_episode = 1000\n",
    "\n",
    "qTable.eval(env, total_episode)"
   ]
  },
  {
   "cell_type": "markdown",
   "metadata": {},
   "source": [
    "Obviously, the expected reward for this non-deterministic environment is lower than the reward for the previous one. However, Q-learning still works pretty good for this setting. Note that we may never get a perfect expected reward for this problem due to the random slippery. Also have a look at the demo below."
   ]
  },
  {
   "cell_type": "code",
   "execution_count": 12,
   "metadata": {},
   "outputs": [
    {
     "output_type": "stream",
     "name": "stdout",
     "text": [
      "  (Down)\nSFFF\nFHFH\nFFFH\nHFF\u001b[41mG\u001b[0m\n"
     ]
    },
    {
     "output_type": "display_data",
     "data": {
      "text/plain": "None"
     },
     "metadata": {}
    }
   ],
   "source": [
    "env = gym.make('FrozenLake-v0')\n",
    "state = env.reset()\n",
    "display(env.render())\n",
    "max_steps = 100\n",
    "qTable.set_epsilon(0.0)\n",
    "for step in range(max_steps):\n",
    "    # take a random action\n",
    "    action = qTable.take_action(state)\n",
    "    clear_output(wait=True)\n",
    "    # take the action and observe the outcome state and reward\n",
    "    new_state, reward, done, info = env.step(action)\n",
    "    display(env.render())\n",
    "    time.sleep(1)\n",
    "    state = new_state\n",
    "    if done:\n",
    "        break\n",
    "env.close()"
   ]
  },
  {
   "cell_type": "markdown",
   "metadata": {},
   "source": [
    "Now let's crack a little bit harder game. This environment is discrete but infinite."
   ]
  },
  {
   "cell_type": "markdown",
   "metadata": {},
   "source": [
    "## N-Chain\n",
    "\n",
    "This game presents moves along a linear chain of states, with two actions:\n",
    "* 0. forward, which moves along the chain but returns no reward\n",
    "* 1. backward, which returns to the beginning and has a small reward\n",
    "\n",
    "The end of the chain, however, presents a large reward, and by moving 'forward' at the end of the chain this large reward can be repeated.\n",
    "\n",
    "At each action, there is a small probability that the agent 'slips' and the opposite transition is instead taken.\n",
    "\n",
    "The observed state is the current state in the chain (0 to n-1)."
   ]
  },
  {
   "cell_type": "code",
   "execution_count": 13,
   "metadata": {},
   "outputs": [
    {
     "output_type": "stream",
     "name": "stdout",
     "text": [
      "Average reward is 130.44644644644646\n"
     ]
    }
   ],
   "source": [
    "env = gym.make('NChain-v0',\n",
    "               n=5, # the length of the chain is 5\n",
    "               slip=0.2, # the slipping probability\n",
    "               small=2, # the small reward for backward\n",
    "               large=10 # the large reward for go forward\n",
    "              )\n",
    "state = env.reset()\n",
    "total_episode = 1000\n",
    "max_steps = 100\n",
    "total_reward = 0\n",
    "for episode in range(total_episode):\n",
    "    state = env.reset()\n",
    "    for step in range(max_steps):\n",
    "        # take a random action\n",
    "        action = env.action_space.sample()\n",
    "        # take the action and observe the outcome state and reward\n",
    "        new_state, reward, done, info = env.step(action)\n",
    "        total_reward += reward\n",
    "        state = new_state\n",
    "env.close()\n",
    "print('Average reward is {}'.format(total_reward / episode))"
   ]
  },
  {
   "cell_type": "markdown",
   "metadata": {},
   "source": [
    "## Question:\n",
    "It's actually interesting to try strategy of always going forward or backward. Have a try here, and explain such phenomena in your PDF writeup file."
   ]
  },
  {
   "source": [
    "## always going forward"
   ],
   "cell_type": "markdown",
   "metadata": {}
  },
  {
   "cell_type": "code",
   "execution_count": 14,
   "metadata": {},
   "outputs": [
    {
     "output_type": "stream",
     "name": "stdout",
     "text": [
      "Average reward is 351.3133133133133\n"
     ]
    }
   ],
   "source": [
    "env = gym.make('NChain-v0',\n",
    "               n=5, # the length of the chain is 5\n",
    "               slip=0.2, # the slipping probability\n",
    "               small=2, # the small reward for backward\n",
    "               large=10 # the large reward for go forward\n",
    "              )\n",
    "state = env.reset()\n",
    "total_episode = 1000\n",
    "max_steps = 100\n",
    "total_reward = 0\n",
    "for episode in range(total_episode):\n",
    "    state = env.reset()\n",
    "    for step in range(max_steps):\n",
    "        # always going forward\n",
    "        action = 0\n",
    "        # take the action and observe the outcome state and reward\n",
    "        new_state, reward, done, info = env.step(action)\n",
    "        total_reward += reward\n",
    "        state = new_state\n",
    "env.close()\n",
    "print('Average reward is {}'.format(total_reward / episode))"
   ]
  },
  {
   "source": [
    "## always backward"
   ],
   "cell_type": "markdown",
   "metadata": {}
  },
  {
   "cell_type": "code",
   "execution_count": 15,
   "metadata": {},
   "outputs": [
    {
     "output_type": "stream",
     "name": "stdout",
     "text": [
      "Average reward is 160.15415415415416\n"
     ]
    }
   ],
   "source": [
    "env = gym.make('NChain-v0',\n",
    "               n=5, # the length of the chain is 5\n",
    "               slip=0.2, # the slipping probability\n",
    "               small=2, # the small reward for backward\n",
    "               large=10 # the large reward for go forward\n",
    "              )\n",
    "state = env.reset()\n",
    "total_episode = 1000\n",
    "max_steps = 100\n",
    "total_reward = 0\n",
    "for episode in range(total_episode):\n",
    "    state = env.reset()\n",
    "    for step in range(max_steps):\n",
    "        # always going backward\n",
    "        action = 1\n",
    "        # take the action and observe the outcome state and reward\n",
    "        new_state, reward, done, info = env.step(action)\n",
    "        total_reward += reward\n",
    "        state = new_state\n",
    "env.close()\n",
    "print('Average reward is {}'.format(total_reward / episode))"
   ]
  },
  {
   "cell_type": "markdown",
   "metadata": {},
   "source": [
    "Now let's apply Q-learning for this environment and see how it works."
   ]
  },
  {
   "cell_type": "code",
   "execution_count": 16,
   "metadata": {},
   "outputs": [
    {
     "output_type": "stream",
     "name": "stdout",
     "text": [
      "Average reward is 198.0682, average step is 100.0\n[[32.35119326 33.90773608]\n [35.43516161 24.41749011]\n [35.95895737 22.70992214]\n [33.696051   23.96948259]\n [37.97289603 24.94518338]]\n"
     ]
    }
   ],
   "source": [
    "env = gym.make('NChain-v0',\n",
    "               n=5, # the length of the chain is 5\n",
    "               slip=0.2, # the slipping probability\n",
    "               small=2, # the small reward for backward\n",
    "               large=10 # the large reward for go forward\n",
    "              )\n",
    "action_size = env.action_space.n\n",
    "state_size = env.observation_space.n\n",
    "\n",
    "gamma = 0.95 # discounting rate\n",
    "alpha = 0.8 # learning rate for Q-learning\n",
    "\n",
    "# exploration parameters\n",
    "epsilon = 1.0              # the initial exploration probability\n",
    "min_epsilon = 0.01         # the minimum exploration probability \n",
    "epsilon_decay = 0.995      # the exponential decay rate for exploration prob\n",
    "\n",
    "qTable = QTable(state_size, action_size, alpha, gamma,\n",
    "               init_epsilon=epsilon,\n",
    "               min_epsilon=min_epsilon,\n",
    "               epsilon_decay=epsilon_decay)\n",
    "total_episode = 10000\n",
    "max_steps = 100\n",
    "qTable.train(env, total_episode, max_steps)\n",
    "print(qTable.qtable)"
   ]
  },
  {
   "cell_type": "markdown",
   "metadata": {},
   "source": [
    "0 denotes going forward, and 1 denotes going backward. Please pay attention to how the reward for going forward and backward change with the state. Also, try to tune the gamma parameter to see how this may influence the expected reward. "
   ]
  },
  {
   "cell_type": "markdown",
   "metadata": {},
   "source": [
    "Now comes the continous and infinite environment!"
   ]
  },
  {
   "cell_type": "markdown",
   "metadata": {},
   "source": [
    "## (Optional) CartPole\n",
    "\n",
    "A pole is attached by an un-actuated joint to a cart, which moves along a frictionless track. The system is controlled by applying a force of +1 or -1 to the cart. The pendulum starts upright, and the goal is to prevent it from falling over. A reward of +1 is provided for every timestep that the pole remains upright. The episode ends when the pole is more than 15 degrees from vertical, or the cart moves more than 2.4 units from the center.\n",
    "\n",
    "Have a look at this demo."
   ]
  },
  {
   "cell_type": "code",
   "execution_count": 17,
   "metadata": {},
   "outputs": [
    {
     "output_type": "display_data",
     "data": {
      "text/plain": "<Figure size 432x288 with 1 Axes>",
      "image/svg+xml": "<?xml version=\"1.0\" encoding=\"utf-8\" standalone=\"no\"?>\r\n<!DOCTYPE svg PUBLIC \"-//W3C//DTD SVG 1.1//EN\"\r\n  \"http://www.w3.org/Graphics/SVG/1.1/DTD/svg11.dtd\">\r\n<!-- Created with matplotlib (https://matplotlib.org/) -->\r\n<svg height=\"252.045544pt\" version=\"1.1\" viewBox=\"0 0 366.6475 252.045544\" width=\"366.6475pt\" xmlns=\"http://www.w3.org/2000/svg\" xmlns:xlink=\"http://www.w3.org/1999/xlink\">\r\n <metadata>\r\n  <rdf:RDF xmlns:cc=\"http://creativecommons.org/ns#\" xmlns:dc=\"http://purl.org/dc/elements/1.1/\" xmlns:rdf=\"http://www.w3.org/1999/02/22-rdf-syntax-ns#\">\r\n   <cc:Work>\r\n    <dc:type rdf:resource=\"http://purl.org/dc/dcmitype/StillImage\"/>\r\n    <dc:date>2021-01-16T21:06:37.020059</dc:date>\r\n    <dc:format>image/svg+xml</dc:format>\r\n    <dc:creator>\r\n     <cc:Agent>\r\n      <dc:title>Matplotlib v3.3.3, https://matplotlib.org/</dc:title>\r\n     </cc:Agent>\r\n    </dc:creator>\r\n   </cc:Work>\r\n  </rdf:RDF>\r\n </metadata>\r\n <defs>\r\n  <style type=\"text/css\">*{stroke-linecap:butt;stroke-linejoin:round;}</style>\r\n </defs>\r\n <g id=\"figure_1\">\r\n  <g id=\"patch_1\">\r\n   <path d=\"M 0 252.045544 \r\nL 366.6475 252.045544 \r\nL 366.6475 0 \r\nL 0 0 \r\nz\r\n\" style=\"fill:none;\"/>\r\n  </g>\r\n  <g id=\"axes_1\">\r\n   <g id=\"patch_2\">\r\n    <path d=\"M 33.2875 228.167419 \r\nL 359.4475 228.167419 \r\nL 359.4475 10.727419 \r\nL 33.2875 10.727419 \r\nz\r\n\" style=\"fill:#ffffff;\"/>\r\n   </g>\r\n   <g clip-path=\"url(#pb9d7efbea5)\">\r\n    <image height=\"218\" id=\"image3b9d93caa3\" transform=\"scale(1 -1)translate(0 -218)\" width=\"327\" x=\"33\" xlink:href=\"data:image/png;base64,\r\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\" y=\"-10.045544\"/>\r\n   </g>\r\n   <g id=\"matplotlib.axis_1\">\r\n    <g id=\"xtick_1\">\r\n     <g id=\"line2d_1\">\r\n      <defs>\r\n       <path d=\"M 0 0 \r\nL 0 3.5 \r\n\" id=\"ma180919855\" style=\"stroke:#000000;stroke-width:0.8;\"/>\r\n      </defs>\r\n      <g>\r\n       <use style=\"stroke:#000000;stroke-width:0.8;\" x=\"33.5593\" xlink:href=\"#ma180919855\" y=\"228.167419\"/>\r\n      </g>\r\n     </g>\r\n     <g id=\"text_1\">\r\n      <!-- 0 -->\r\n      <g transform=\"translate(30.37805 242.765856)scale(0.1 -0.1)\">\r\n       <defs>\r\n        <path d=\"M 31.78125 66.40625 \r\nQ 24.171875 66.40625 20.328125 58.90625 \r\nQ 16.5 51.421875 16.5 36.375 \r\nQ 16.5 21.390625 20.328125 13.890625 \r\nQ 24.171875 6.390625 31.78125 6.390625 \r\nQ 39.453125 6.390625 43.28125 13.890625 \r\nQ 47.125 21.390625 47.125 36.375 \r\nQ 47.125 51.421875 43.28125 58.90625 \r\nQ 39.453125 66.40625 31.78125 66.40625 \r\nz\r\nM 31.78125 74.21875 \r\nQ 44.046875 74.21875 50.515625 64.515625 \r\nQ 56.984375 54.828125 56.984375 36.375 \r\nQ 56.984375 17.96875 50.515625 8.265625 \r\nQ 44.046875 -1.421875 31.78125 -1.421875 \r\nQ 19.53125 -1.421875 13.0625 8.265625 \r\nQ 6.59375 17.96875 6.59375 36.375 \r\nQ 6.59375 54.828125 13.0625 64.515625 \r\nQ 19.53125 74.21875 31.78125 74.21875 \r\nz\r\n\" id=\"DejaVuSans-48\"/>\r\n       </defs>\r\n       <use xlink:href=\"#DejaVuSans-48\"/>\r\n      </g>\r\n     </g>\r\n    </g>\r\n    <g id=\"xtick_2\">\r\n     <g id=\"line2d_2\">\r\n      <g>\r\n       <use style=\"stroke:#000000;stroke-width:0.8;\" x=\"87.9193\" xlink:href=\"#ma180919855\" y=\"228.167419\"/>\r\n      </g>\r\n     </g>\r\n     <g id=\"text_2\">\r\n      <!-- 100 -->\r\n      <g transform=\"translate(78.37555 242.765856)scale(0.1 -0.1)\">\r\n       <defs>\r\n        <path d=\"M 12.40625 8.296875 \r\nL 28.515625 8.296875 \r\nL 28.515625 63.921875 \r\nL 10.984375 60.40625 \r\nL 10.984375 69.390625 \r\nL 28.421875 72.90625 \r\nL 38.28125 72.90625 \r\nL 38.28125 8.296875 \r\nL 54.390625 8.296875 \r\nL 54.390625 0 \r\nL 12.40625 0 \r\nz\r\n\" id=\"DejaVuSans-49\"/>\r\n       </defs>\r\n       <use xlink:href=\"#DejaVuSans-49\"/>\r\n       <use x=\"63.623047\" xlink:href=\"#DejaVuSans-48\"/>\r\n       <use x=\"127.246094\" xlink:href=\"#DejaVuSans-48\"/>\r\n      </g>\r\n     </g>\r\n    </g>\r\n    <g id=\"xtick_3\">\r\n     <g id=\"line2d_3\">\r\n      <g>\r\n       <use style=\"stroke:#000000;stroke-width:0.8;\" x=\"142.2793\" xlink:href=\"#ma180919855\" y=\"228.167419\"/>\r\n      </g>\r\n     </g>\r\n     <g id=\"text_3\">\r\n      <!-- 200 -->\r\n      <g transform=\"translate(132.73555 242.765856)scale(0.1 -0.1)\">\r\n       <defs>\r\n        <path d=\"M 19.1875 8.296875 \r\nL 53.609375 8.296875 \r\nL 53.609375 0 \r\nL 7.328125 0 \r\nL 7.328125 8.296875 \r\nQ 12.9375 14.109375 22.625 23.890625 \r\nQ 32.328125 33.6875 34.8125 36.53125 \r\nQ 39.546875 41.84375 41.421875 45.53125 \r\nQ 43.3125 49.21875 43.3125 52.78125 \r\nQ 43.3125 58.59375 39.234375 62.25 \r\nQ 35.15625 65.921875 28.609375 65.921875 \r\nQ 23.96875 65.921875 18.8125 64.3125 \r\nQ 13.671875 62.703125 7.8125 59.421875 \r\nL 7.8125 69.390625 \r\nQ 13.765625 71.78125 18.9375 73 \r\nQ 24.125 74.21875 28.421875 74.21875 \r\nQ 39.75 74.21875 46.484375 68.546875 \r\nQ 53.21875 62.890625 53.21875 53.421875 \r\nQ 53.21875 48.921875 51.53125 44.890625 \r\nQ 49.859375 40.875 45.40625 35.40625 \r\nQ 44.1875 33.984375 37.640625 27.21875 \r\nQ 31.109375 20.453125 19.1875 8.296875 \r\nz\r\n\" id=\"DejaVuSans-50\"/>\r\n       </defs>\r\n       <use xlink:href=\"#DejaVuSans-50\"/>\r\n       <use x=\"63.623047\" xlink:href=\"#DejaVuSans-48\"/>\r\n       <use x=\"127.246094\" xlink:href=\"#DejaVuSans-48\"/>\r\n      </g>\r\n     </g>\r\n    </g>\r\n    <g id=\"xtick_4\">\r\n     <g id=\"line2d_4\">\r\n      <g>\r\n       <use style=\"stroke:#000000;stroke-width:0.8;\" x=\"196.6393\" xlink:href=\"#ma180919855\" y=\"228.167419\"/>\r\n      </g>\r\n     </g>\r\n     <g id=\"text_4\">\r\n      <!-- 300 -->\r\n      <g transform=\"translate(187.09555 242.765856)scale(0.1 -0.1)\">\r\n       <defs>\r\n        <path d=\"M 40.578125 39.3125 \r\nQ 47.65625 37.796875 51.625 33 \r\nQ 55.609375 28.21875 55.609375 21.1875 \r\nQ 55.609375 10.40625 48.1875 4.484375 \r\nQ 40.765625 -1.421875 27.09375 -1.421875 \r\nQ 22.515625 -1.421875 17.65625 -0.515625 \r\nQ 12.796875 0.390625 7.625 2.203125 \r\nL 7.625 11.71875 \r\nQ 11.71875 9.328125 16.59375 8.109375 \r\nQ 21.484375 6.890625 26.8125 6.890625 \r\nQ 36.078125 6.890625 40.9375 10.546875 \r\nQ 45.796875 14.203125 45.796875 21.1875 \r\nQ 45.796875 27.640625 41.28125 31.265625 \r\nQ 36.765625 34.90625 28.71875 34.90625 \r\nL 20.21875 34.90625 \r\nL 20.21875 43.015625 \r\nL 29.109375 43.015625 \r\nQ 36.375 43.015625 40.234375 45.921875 \r\nQ 44.09375 48.828125 44.09375 54.296875 \r\nQ 44.09375 59.90625 40.109375 62.90625 \r\nQ 36.140625 65.921875 28.71875 65.921875 \r\nQ 24.65625 65.921875 20.015625 65.03125 \r\nQ 15.375 64.15625 9.8125 62.3125 \r\nL 9.8125 71.09375 \r\nQ 15.4375 72.65625 20.34375 73.4375 \r\nQ 25.25 74.21875 29.59375 74.21875 \r\nQ 40.828125 74.21875 47.359375 69.109375 \r\nQ 53.90625 64.015625 53.90625 55.328125 \r\nQ 53.90625 49.265625 50.4375 45.09375 \r\nQ 46.96875 40.921875 40.578125 39.3125 \r\nz\r\n\" id=\"DejaVuSans-51\"/>\r\n       </defs>\r\n       <use xlink:href=\"#DejaVuSans-51\"/>\r\n       <use x=\"63.623047\" xlink:href=\"#DejaVuSans-48\"/>\r\n       <use x=\"127.246094\" xlink:href=\"#DejaVuSans-48\"/>\r\n      </g>\r\n     </g>\r\n    </g>\r\n    <g id=\"xtick_5\">\r\n     <g id=\"line2d_5\">\r\n      <g>\r\n       <use style=\"stroke:#000000;stroke-width:0.8;\" x=\"250.9993\" xlink:href=\"#ma180919855\" y=\"228.167419\"/>\r\n      </g>\r\n     </g>\r\n     <g id=\"text_5\">\r\n      <!-- 400 -->\r\n      <g transform=\"translate(241.45555 242.765856)scale(0.1 -0.1)\">\r\n       <defs>\r\n        <path d=\"M 37.796875 64.3125 \r\nL 12.890625 25.390625 \r\nL 37.796875 25.390625 \r\nz\r\nM 35.203125 72.90625 \r\nL 47.609375 72.90625 \r\nL 47.609375 25.390625 \r\nL 58.015625 25.390625 \r\nL 58.015625 17.1875 \r\nL 47.609375 17.1875 \r\nL 47.609375 0 \r\nL 37.796875 0 \r\nL 37.796875 17.1875 \r\nL 4.890625 17.1875 \r\nL 4.890625 26.703125 \r\nz\r\n\" id=\"DejaVuSans-52\"/>\r\n       </defs>\r\n       <use xlink:href=\"#DejaVuSans-52\"/>\r\n       <use x=\"63.623047\" xlink:href=\"#DejaVuSans-48\"/>\r\n       <use x=\"127.246094\" xlink:href=\"#DejaVuSans-48\"/>\r\n      </g>\r\n     </g>\r\n    </g>\r\n    <g id=\"xtick_6\">\r\n     <g id=\"line2d_6\">\r\n      <g>\r\n       <use style=\"stroke:#000000;stroke-width:0.8;\" x=\"305.3593\" xlink:href=\"#ma180919855\" y=\"228.167419\"/>\r\n      </g>\r\n     </g>\r\n     <g id=\"text_6\">\r\n      <!-- 500 -->\r\n      <g transform=\"translate(295.81555 242.765856)scale(0.1 -0.1)\">\r\n       <defs>\r\n        <path d=\"M 10.796875 72.90625 \r\nL 49.515625 72.90625 \r\nL 49.515625 64.59375 \r\nL 19.828125 64.59375 \r\nL 19.828125 46.734375 \r\nQ 21.96875 47.46875 24.109375 47.828125 \r\nQ 26.265625 48.1875 28.421875 48.1875 \r\nQ 40.625 48.1875 47.75 41.5 \r\nQ 54.890625 34.8125 54.890625 23.390625 \r\nQ 54.890625 11.625 47.5625 5.09375 \r\nQ 40.234375 -1.421875 26.90625 -1.421875 \r\nQ 22.3125 -1.421875 17.546875 -0.640625 \r\nQ 12.796875 0.140625 7.71875 1.703125 \r\nL 7.71875 11.625 \r\nQ 12.109375 9.234375 16.796875 8.0625 \r\nQ 21.484375 6.890625 26.703125 6.890625 \r\nQ 35.15625 6.890625 40.078125 11.328125 \r\nQ 45.015625 15.765625 45.015625 23.390625 \r\nQ 45.015625 31 40.078125 35.4375 \r\nQ 35.15625 39.890625 26.703125 39.890625 \r\nQ 22.75 39.890625 18.8125 39.015625 \r\nQ 14.890625 38.140625 10.796875 36.28125 \r\nz\r\n\" id=\"DejaVuSans-53\"/>\r\n       </defs>\r\n       <use xlink:href=\"#DejaVuSans-53\"/>\r\n       <use x=\"63.623047\" xlink:href=\"#DejaVuSans-48\"/>\r\n       <use x=\"127.246094\" xlink:href=\"#DejaVuSans-48\"/>\r\n      </g>\r\n     </g>\r\n    </g>\r\n   </g>\r\n   <g id=\"matplotlib.axis_2\">\r\n    <g id=\"ytick_1\">\r\n     <g id=\"line2d_7\">\r\n      <defs>\r\n       <path d=\"M 0 0 \r\nL -3.5 0 \r\n\" id=\"m45386bdbb8\" style=\"stroke:#000000;stroke-width:0.8;\"/>\r\n      </defs>\r\n      <g>\r\n       <use style=\"stroke:#000000;stroke-width:0.8;\" x=\"33.2875\" xlink:href=\"#m45386bdbb8\" y=\"10.999219\"/>\r\n      </g>\r\n     </g>\r\n     <g id=\"text_7\">\r\n      <!-- 0 -->\r\n      <g transform=\"translate(19.925 14.798438)scale(0.1 -0.1)\">\r\n       <use xlink:href=\"#DejaVuSans-48\"/>\r\n      </g>\r\n     </g>\r\n    </g>\r\n    <g id=\"ytick_2\">\r\n     <g id=\"line2d_8\">\r\n      <g>\r\n       <use style=\"stroke:#000000;stroke-width:0.8;\" x=\"33.2875\" xlink:href=\"#m45386bdbb8\" y=\"38.179219\"/>\r\n      </g>\r\n     </g>\r\n     <g id=\"text_8\">\r\n      <!-- 50 -->\r\n      <g transform=\"translate(13.5625 41.978438)scale(0.1 -0.1)\">\r\n       <use xlink:href=\"#DejaVuSans-53\"/>\r\n       <use x=\"63.623047\" xlink:href=\"#DejaVuSans-48\"/>\r\n      </g>\r\n     </g>\r\n    </g>\r\n    <g id=\"ytick_3\">\r\n     <g id=\"line2d_9\">\r\n      <g>\r\n       <use style=\"stroke:#000000;stroke-width:0.8;\" x=\"33.2875\" xlink:href=\"#m45386bdbb8\" y=\"65.359219\"/>\r\n      </g>\r\n     </g>\r\n     <g id=\"text_9\">\r\n      <!-- 100 -->\r\n      <g transform=\"translate(7.2 69.158438)scale(0.1 -0.1)\">\r\n       <use xlink:href=\"#DejaVuSans-49\"/>\r\n       <use x=\"63.623047\" xlink:href=\"#DejaVuSans-48\"/>\r\n       <use x=\"127.246094\" xlink:href=\"#DejaVuSans-48\"/>\r\n      </g>\r\n     </g>\r\n    </g>\r\n    <g id=\"ytick_4\">\r\n     <g id=\"line2d_10\">\r\n      <g>\r\n       <use style=\"stroke:#000000;stroke-width:0.8;\" x=\"33.2875\" xlink:href=\"#m45386bdbb8\" y=\"92.539219\"/>\r\n      </g>\r\n     </g>\r\n     <g id=\"text_10\">\r\n      <!-- 150 -->\r\n      <g transform=\"translate(7.2 96.338437)scale(0.1 -0.1)\">\r\n       <use xlink:href=\"#DejaVuSans-49\"/>\r\n       <use x=\"63.623047\" xlink:href=\"#DejaVuSans-53\"/>\r\n       <use x=\"127.246094\" xlink:href=\"#DejaVuSans-48\"/>\r\n      </g>\r\n     </g>\r\n    </g>\r\n    <g id=\"ytick_5\">\r\n     <g id=\"line2d_11\">\r\n      <g>\r\n       <use style=\"stroke:#000000;stroke-width:0.8;\" x=\"33.2875\" xlink:href=\"#m45386bdbb8\" y=\"119.719219\"/>\r\n      </g>\r\n     </g>\r\n     <g id=\"text_11\">\r\n      <!-- 200 -->\r\n      <g transform=\"translate(7.2 123.518438)scale(0.1 -0.1)\">\r\n       <use xlink:href=\"#DejaVuSans-50\"/>\r\n       <use x=\"63.623047\" xlink:href=\"#DejaVuSans-48\"/>\r\n       <use x=\"127.246094\" xlink:href=\"#DejaVuSans-48\"/>\r\n      </g>\r\n     </g>\r\n    </g>\r\n    <g id=\"ytick_6\">\r\n     <g id=\"line2d_12\">\r\n      <g>\r\n       <use style=\"stroke:#000000;stroke-width:0.8;\" x=\"33.2875\" xlink:href=\"#m45386bdbb8\" y=\"146.899219\"/>\r\n      </g>\r\n     </g>\r\n     <g id=\"text_12\">\r\n      <!-- 250 -->\r\n      <g transform=\"translate(7.2 150.698438)scale(0.1 -0.1)\">\r\n       <use xlink:href=\"#DejaVuSans-50\"/>\r\n       <use x=\"63.623047\" xlink:href=\"#DejaVuSans-53\"/>\r\n       <use x=\"127.246094\" xlink:href=\"#DejaVuSans-48\"/>\r\n      </g>\r\n     </g>\r\n    </g>\r\n    <g id=\"ytick_7\">\r\n     <g id=\"line2d_13\">\r\n      <g>\r\n       <use style=\"stroke:#000000;stroke-width:0.8;\" x=\"33.2875\" xlink:href=\"#m45386bdbb8\" y=\"174.079219\"/>\r\n      </g>\r\n     </g>\r\n     <g id=\"text_13\">\r\n      <!-- 300 -->\r\n      <g transform=\"translate(7.2 177.878437)scale(0.1 -0.1)\">\r\n       <use xlink:href=\"#DejaVuSans-51\"/>\r\n       <use x=\"63.623047\" xlink:href=\"#DejaVuSans-48\"/>\r\n       <use x=\"127.246094\" xlink:href=\"#DejaVuSans-48\"/>\r\n      </g>\r\n     </g>\r\n    </g>\r\n    <g id=\"ytick_8\">\r\n     <g id=\"line2d_14\">\r\n      <g>\r\n       <use style=\"stroke:#000000;stroke-width:0.8;\" x=\"33.2875\" xlink:href=\"#m45386bdbb8\" y=\"201.259219\"/>\r\n      </g>\r\n     </g>\r\n     <g id=\"text_14\">\r\n      <!-- 350 -->\r\n      <g transform=\"translate(7.2 205.058437)scale(0.1 -0.1)\">\r\n       <use xlink:href=\"#DejaVuSans-51\"/>\r\n       <use x=\"63.623047\" xlink:href=\"#DejaVuSans-53\"/>\r\n       <use x=\"127.246094\" xlink:href=\"#DejaVuSans-48\"/>\r\n      </g>\r\n     </g>\r\n    </g>\r\n   </g>\r\n   <g id=\"patch_3\">\r\n    <path d=\"M 33.2875 228.167419 \r\nL 33.2875 10.727419 \r\n\" style=\"fill:none;stroke:#000000;stroke-linecap:square;stroke-linejoin:miter;stroke-width:0.8;\"/>\r\n   </g>\r\n   <g id=\"patch_4\">\r\n    <path d=\"M 359.4475 228.167419 \r\nL 359.4475 10.727419 \r\n\" style=\"fill:none;stroke:#000000;stroke-linecap:square;stroke-linejoin:miter;stroke-width:0.8;\"/>\r\n   </g>\r\n   <g id=\"patch_5\">\r\n    <path d=\"M 33.2875 228.167419 \r\nL 359.4475 228.167419 \r\n\" style=\"fill:none;stroke:#000000;stroke-linecap:square;stroke-linejoin:miter;stroke-width:0.8;\"/>\r\n   </g>\r\n   <g id=\"patch_6\">\r\n    <path d=\"M 33.2875 10.727419 \r\nL 359.4475 10.727419 \r\n\" style=\"fill:none;stroke:#000000;stroke-linecap:square;stroke-linejoin:miter;stroke-width:0.8;\"/>\r\n   </g>\r\n  </g>\r\n </g>\r\n <defs>\r\n  <clipPath id=\"pb9d7efbea5\">\r\n   <rect height=\"217.44\" width=\"326.16\" x=\"33.2875\" y=\"10.727419\"/>\r\n  </clipPath>\r\n </defs>\r\n</svg>\r\n",
      "image/png": "[encoded data removed]"
     },
     "metadata": {
      "needs_background": "light"
     }
    }
   ],
   "source": [
    "env = gym.make('CartPole-v1')\n",
    "env.reset()\n",
    "\n",
    "for i in range(100):\n",
    "    plt.imshow(env.render(mode='rgb_array'))\n",
    "    display(plt.gcf())    \n",
    "    clear_output(wait=True)\n",
    "    new_state, reward, done, info = env.step(env.action_space.sample()) # take a random action\n",
    "    if done:\n",
    "        break\n",
    "\n",
    "env.close()"
   ]
  },
  {
   "cell_type": "markdown",
   "metadata": {},
   "source": [
    "Also, have a sense of how a random approach works for this problem."
   ]
  },
  {
   "cell_type": "code",
   "execution_count": 18,
   "metadata": {},
   "outputs": [
    {
     "output_type": "stream",
     "name": "stdout",
     "text": [
      "The average reward is 22.3119\n"
     ]
    }
   ],
   "source": [
    "env = gym.make('CartPole-v1')\n",
    "env.reset()\n",
    "total_reward = 0\n",
    "total_episode = 10000\n",
    "for episode in range(total_episode):\n",
    "    env.reset()\n",
    "    while True:\n",
    "        new_state, reward, done, info = env.step(env.action_space.sample()) # take a random action\n",
    "        total_reward += reward\n",
    "        if done:\n",
    "            break\n",
    "\n",
    "env.close()\n",
    "print(\"The average reward is {}\".format(total_reward / total_episode))"
   ]
  },
  {
   "cell_type": "markdown",
   "metadata": {},
   "source": [
    "Note that this is continous task. For this game there are a huge number of states available. The state has four values: the position and velocity of the cart, and the position and velocity of the pole. These are all real-valued numbers, so ignoring floating point precisions, you practically have infinite states. Though we can somehow discretize the state and apply the *qtable* approach, we'll replace it with a approximator that will approximate the *qtable* lookup function. Thus we can no longer apply the *qtable* for this task. \n",
    "\n",
    "As a result, our Q value, $Q(s, a)$ is calculated by passing in a state to the approximator. The output will be Q values for each available action.\n",
    "\n",
    "We can define our targets for training as $\\hat{Q}(s,a) = r + \\gamma \\max{Q(s', a')}$. Then we update the weights by minimizing $(\\hat{Q}(s,a) - Q(s,a))^2$, which is exactly a regression problem.\n",
    "\n",
    "For this Cart-Pole game, we have four inputs, one for each value in the state, and two outputs, one for each action. To get $\\hat{Q}$, we'll first choose an action, then simulate the game using that action. This will get us the next state, $s'$, and the reward. With that, we can calculate $\\hat{Q}$ then pass it back into the $Q$ approximator to run the optimizer and update the weights.\n",
    "\n",
    "Note that since this is a regression task, we can use any regressor we have learned before. At first, we will try to use linear regression for this task. Feel free to use TensorFlow or Pytorch or even the code you have written in previous homework. \n",
    "\n",
    "FYI: GPU should provide more efficient training for these models, though a modern CPU should be enough for this homework. Our laptop (i5) can finish all the training tasks in dozens of minutes.\n",
    "\n",
    "### TODO: implement the Approximator class in *approximator.py* with linear regression"
   ]
  },
  {
   "cell_type": "markdown",
   "metadata": {},
   "source": [
    "Some useful readings:\n",
    "* https://pytorch.org/tutorials/intermediate/reinforcement_q_learning.html\n",
    "* https://www.tensorflow.org/tutorials/reinforcement_learning/actor_critic"
   ]
  },
  {
   "cell_type": "code",
   "execution_count": 21,
   "metadata": {
    "scrolled": true
   },
   "outputs": [
    {
     "output_type": "stream",
     "name": "stdout",
     "text": [
      "4 2\n"
     ]
    },
    {
     "output_type": "display_data",
     "data": {
      "text/plain": "<Figure size 432x288 with 1 Axes>",
      "image/svg+xml": "<?xml version=\"1.0\" encoding=\"utf-8\" standalone=\"no\"?>\r\n<!DOCTYPE svg PUBLIC \"-//W3C//DTD SVG 1.1//EN\"\r\n  \"http://www.w3.org/Graphics/SVG/1.1/DTD/svg11.dtd\">\r\n<!-- Created with matplotlib (https://matplotlib.org/) -->\r\n<svg height=\"248.518125pt\" version=\"1.1\" viewBox=\"0 0 386.845312 248.518125\" width=\"386.845312pt\" xmlns=\"http://www.w3.org/2000/svg\" xmlns:xlink=\"http://www.w3.org/1999/xlink\">\r\n <metadata>\r\n  <rdf:RDF xmlns:cc=\"http://creativecommons.org/ns#\" xmlns:dc=\"http://purl.org/dc/elements/1.1/\" xmlns:rdf=\"http://www.w3.org/1999/02/22-rdf-syntax-ns#\">\r\n   <cc:Work>\r\n    <dc:type rdf:resource=\"http://purl.org/dc/dcmitype/StillImage\"/>\r\n    <dc:date>2021-01-17T14:28:44.421186</dc:date>\r\n    <dc:format>image/svg+xml</dc:format>\r\n    <dc:creator>\r\n     <cc:Agent>\r\n      <dc:title>Matplotlib v3.3.3, https://matplotlib.org/</dc:title>\r\n     </cc:Agent>\r\n    </dc:creator>\r\n   </cc:Work>\r\n  </rdf:RDF>\r\n </metadata>\r\n <defs>\r\n  <style type=\"text/css\">*{stroke-linecap:butt;stroke-linejoin:round;}</style>\r\n </defs>\r\n <g id=\"figure_1\">\r\n  <g id=\"patch_1\">\r\n   <path d=\"M 0 248.518125 \r\nL 386.845312 248.518125 \r\nL 386.845312 0 \r\nL 0 0 \r\nz\r\n\" style=\"fill:none;\"/>\r\n  </g>\r\n  <g id=\"axes_1\">\r\n   <g id=\"patch_2\">\r\n    <path d=\"M 44.845313 224.64 \r\nL 379.645313 224.64 \r\nL 379.645313 7.2 \r\nL 44.845313 7.2 \r\nz\r\n\" style=\"fill:#ffffff;\"/>\r\n   </g>\r\n   <g id=\"matplotlib.axis_1\">\r\n    <g id=\"xtick_1\">\r\n     <g id=\"line2d_1\">\r\n      <defs>\r\n       <path d=\"M 0 0 \r\nL 0 3.5 \r\n\" id=\"md1e213fcf5\" style=\"stroke:#000000;stroke-width:0.8;\"/>\r\n      </defs>\r\n      <g>\r\n       <use style=\"stroke:#000000;stroke-width:0.8;\" x=\"90.499858\" xlink:href=\"#md1e213fcf5\" y=\"224.64\"/>\r\n      </g>\r\n     </g>\r\n     <g id=\"text_1\">\r\n      <!-- −0.04 -->\r\n      <g transform=\"translate(75.177202 239.238437)scale(0.1 -0.1)\">\r\n       <defs>\r\n        <path d=\"M 10.59375 35.5 \r\nL 73.1875 35.5 \r\nL 73.1875 27.203125 \r\nL 10.59375 27.203125 \r\nz\r\n\" id=\"DejaVuSans-8722\"/>\r\n        <path d=\"M 31.78125 66.40625 \r\nQ 24.171875 66.40625 20.328125 58.90625 \r\nQ 16.5 51.421875 16.5 36.375 \r\nQ 16.5 21.390625 20.328125 13.890625 \r\nQ 24.171875 6.390625 31.78125 6.390625 \r\nQ 39.453125 6.390625 43.28125 13.890625 \r\nQ 47.125 21.390625 47.125 36.375 \r\nQ 47.125 51.421875 43.28125 58.90625 \r\nQ 39.453125 66.40625 31.78125 66.40625 \r\nz\r\nM 31.78125 74.21875 \r\nQ 44.046875 74.21875 50.515625 64.515625 \r\nQ 56.984375 54.828125 56.984375 36.375 \r\nQ 56.984375 17.96875 50.515625 8.265625 \r\nQ 44.046875 -1.421875 31.78125 -1.421875 \r\nQ 19.53125 -1.421875 13.0625 8.265625 \r\nQ 6.59375 17.96875 6.59375 36.375 \r\nQ 6.59375 54.828125 13.0625 64.515625 \r\nQ 19.53125 74.21875 31.78125 74.21875 \r\nz\r\n\" id=\"DejaVuSans-48\"/>\r\n        <path d=\"M 10.6875 12.40625 \r\nL 21 12.40625 \r\nL 21 0 \r\nL 10.6875 0 \r\nz\r\n\" id=\"DejaVuSans-46\"/>\r\n        <path d=\"M 37.796875 64.3125 \r\nL 12.890625 25.390625 \r\nL 37.796875 25.390625 \r\nz\r\nM 35.203125 72.90625 \r\nL 47.609375 72.90625 \r\nL 47.609375 25.390625 \r\nL 58.015625 25.390625 \r\nL 58.015625 17.1875 \r\nL 47.609375 17.1875 \r\nL 47.609375 0 \r\nL 37.796875 0 \r\nL 37.796875 17.1875 \r\nL 4.890625 17.1875 \r\nL 4.890625 26.703125 \r\nz\r\n\" id=\"DejaVuSans-52\"/>\r\n       </defs>\r\n       <use xlink:href=\"#DejaVuSans-8722\"/>\r\n       <use x=\"83.789062\" xlink:href=\"#DejaVuSans-48\"/>\r\n       <use x=\"147.412109\" xlink:href=\"#DejaVuSans-46\"/>\r\n       <use x=\"179.199219\" xlink:href=\"#DejaVuSans-48\"/>\r\n       <use x=\"242.822266\" xlink:href=\"#DejaVuSans-52\"/>\r\n      </g>\r\n     </g>\r\n    </g>\r\n    <g id=\"xtick_2\">\r\n     <g id=\"line2d_2\">\r\n      <g>\r\n       <use style=\"stroke:#000000;stroke-width:0.8;\" x=\"151.372585\" xlink:href=\"#md1e213fcf5\" y=\"224.64\"/>\r\n      </g>\r\n     </g>\r\n     <g id=\"text_2\">\r\n      <!-- −0.02 -->\r\n      <g transform=\"translate(136.049929 239.238437)scale(0.1 -0.1)\">\r\n       <defs>\r\n        <path d=\"M 19.1875 8.296875 \r\nL 53.609375 8.296875 \r\nL 53.609375 0 \r\nL 7.328125 0 \r\nL 7.328125 8.296875 \r\nQ 12.9375 14.109375 22.625 23.890625 \r\nQ 32.328125 33.6875 34.8125 36.53125 \r\nQ 39.546875 41.84375 41.421875 45.53125 \r\nQ 43.3125 49.21875 43.3125 52.78125 \r\nQ 43.3125 58.59375 39.234375 62.25 \r\nQ 35.15625 65.921875 28.609375 65.921875 \r\nQ 23.96875 65.921875 18.8125 64.3125 \r\nQ 13.671875 62.703125 7.8125 59.421875 \r\nL 7.8125 69.390625 \r\nQ 13.765625 71.78125 18.9375 73 \r\nQ 24.125 74.21875 28.421875 74.21875 \r\nQ 39.75 74.21875 46.484375 68.546875 \r\nQ 53.21875 62.890625 53.21875 53.421875 \r\nQ 53.21875 48.921875 51.53125 44.890625 \r\nQ 49.859375 40.875 45.40625 35.40625 \r\nQ 44.1875 33.984375 37.640625 27.21875 \r\nQ 31.109375 20.453125 19.1875 8.296875 \r\nz\r\n\" id=\"DejaVuSans-50\"/>\r\n       </defs>\r\n       <use xlink:href=\"#DejaVuSans-8722\"/>\r\n       <use x=\"83.789062\" xlink:href=\"#DejaVuSans-48\"/>\r\n       <use x=\"147.412109\" xlink:href=\"#DejaVuSans-46\"/>\r\n       <use x=\"179.199219\" xlink:href=\"#DejaVuSans-48\"/>\r\n       <use x=\"242.822266\" xlink:href=\"#DejaVuSans-50\"/>\r\n      </g>\r\n     </g>\r\n    </g>\r\n    <g id=\"xtick_3\">\r\n     <g id=\"line2d_3\">\r\n      <g>\r\n       <use style=\"stroke:#000000;stroke-width:0.8;\" x=\"212.245313\" xlink:href=\"#md1e213fcf5\" y=\"224.64\"/>\r\n      </g>\r\n     </g>\r\n     <g id=\"text_3\">\r\n      <!-- 0.00 -->\r\n      <g transform=\"translate(201.1125 239.238437)scale(0.1 -0.1)\">\r\n       <use xlink:href=\"#DejaVuSans-48\"/>\r\n       <use x=\"63.623047\" xlink:href=\"#DejaVuSans-46\"/>\r\n       <use x=\"95.410156\" xlink:href=\"#DejaVuSans-48\"/>\r\n       <use x=\"159.033203\" xlink:href=\"#DejaVuSans-48\"/>\r\n      </g>\r\n     </g>\r\n    </g>\r\n    <g id=\"xtick_4\">\r\n     <g id=\"line2d_4\">\r\n      <g>\r\n       <use style=\"stroke:#000000;stroke-width:0.8;\" x=\"273.11804\" xlink:href=\"#md1e213fcf5\" y=\"224.64\"/>\r\n      </g>\r\n     </g>\r\n     <g id=\"text_4\">\r\n      <!-- 0.02 -->\r\n      <g transform=\"translate(261.985227 239.238437)scale(0.1 -0.1)\">\r\n       <use xlink:href=\"#DejaVuSans-48\"/>\r\n       <use x=\"63.623047\" xlink:href=\"#DejaVuSans-46\"/>\r\n       <use x=\"95.410156\" xlink:href=\"#DejaVuSans-48\"/>\r\n       <use x=\"159.033203\" xlink:href=\"#DejaVuSans-50\"/>\r\n      </g>\r\n     </g>\r\n    </g>\r\n    <g id=\"xtick_5\">\r\n     <g id=\"line2d_5\">\r\n      <g>\r\n       <use style=\"stroke:#000000;stroke-width:0.8;\" x=\"333.990767\" xlink:href=\"#md1e213fcf5\" y=\"224.64\"/>\r\n      </g>\r\n     </g>\r\n     <g id=\"text_5\">\r\n      <!-- 0.04 -->\r\n      <g transform=\"translate(322.857955 239.238437)scale(0.1 -0.1)\">\r\n       <use xlink:href=\"#DejaVuSans-48\"/>\r\n       <use x=\"63.623047\" xlink:href=\"#DejaVuSans-46\"/>\r\n       <use x=\"95.410156\" xlink:href=\"#DejaVuSans-48\"/>\r\n       <use x=\"159.033203\" xlink:href=\"#DejaVuSans-52\"/>\r\n      </g>\r\n     </g>\r\n    </g>\r\n   </g>\r\n   <g id=\"matplotlib.axis_2\">\r\n    <g id=\"ytick_1\">\r\n     <g id=\"line2d_6\">\r\n      <defs>\r\n       <path d=\"M 0 0 \r\nL -3.5 0 \r\n\" id=\"m3775380a43\" style=\"stroke:#000000;stroke-width:0.8;\"/>\r\n      </defs>\r\n      <g>\r\n       <use style=\"stroke:#000000;stroke-width:0.8;\" x=\"44.845313\" xlink:href=\"#m3775380a43\" y=\"194.989091\"/>\r\n      </g>\r\n     </g>\r\n     <g id=\"text_6\">\r\n      <!-- −0.04 -->\r\n      <g transform=\"translate(7.2 198.78831)scale(0.1 -0.1)\">\r\n       <use xlink:href=\"#DejaVuSans-8722\"/>\r\n       <use x=\"83.789062\" xlink:href=\"#DejaVuSans-48\"/>\r\n       <use x=\"147.412109\" xlink:href=\"#DejaVuSans-46\"/>\r\n       <use x=\"179.199219\" xlink:href=\"#DejaVuSans-48\"/>\r\n       <use x=\"242.822266\" xlink:href=\"#DejaVuSans-52\"/>\r\n      </g>\r\n     </g>\r\n    </g>\r\n    <g id=\"ytick_2\">\r\n     <g id=\"line2d_7\">\r\n      <g>\r\n       <use style=\"stroke:#000000;stroke-width:0.8;\" x=\"44.845313\" xlink:href=\"#m3775380a43\" y=\"155.454545\"/>\r\n      </g>\r\n     </g>\r\n     <g id=\"text_7\">\r\n      <!-- −0.02 -->\r\n      <g transform=\"translate(7.2 159.253764)scale(0.1 -0.1)\">\r\n       <use xlink:href=\"#DejaVuSans-8722\"/>\r\n       <use x=\"83.789062\" xlink:href=\"#DejaVuSans-48\"/>\r\n       <use x=\"147.412109\" xlink:href=\"#DejaVuSans-46\"/>\r\n       <use x=\"179.199219\" xlink:href=\"#DejaVuSans-48\"/>\r\n       <use x=\"242.822266\" xlink:href=\"#DejaVuSans-50\"/>\r\n      </g>\r\n     </g>\r\n    </g>\r\n    <g id=\"ytick_3\">\r\n     <g id=\"line2d_8\">\r\n      <g>\r\n       <use style=\"stroke:#000000;stroke-width:0.8;\" x=\"44.845313\" xlink:href=\"#m3775380a43\" y=\"115.92\"/>\r\n      </g>\r\n     </g>\r\n     <g id=\"text_8\">\r\n      <!-- 0.00 -->\r\n      <g transform=\"translate(15.579688 119.719219)scale(0.1 -0.1)\">\r\n       <use xlink:href=\"#DejaVuSans-48\"/>\r\n       <use x=\"63.623047\" xlink:href=\"#DejaVuSans-46\"/>\r\n       <use x=\"95.410156\" xlink:href=\"#DejaVuSans-48\"/>\r\n       <use x=\"159.033203\" xlink:href=\"#DejaVuSans-48\"/>\r\n      </g>\r\n     </g>\r\n    </g>\r\n    <g id=\"ytick_4\">\r\n     <g id=\"line2d_9\">\r\n      <g>\r\n       <use style=\"stroke:#000000;stroke-width:0.8;\" x=\"44.845313\" xlink:href=\"#m3775380a43\" y=\"76.385455\"/>\r\n      </g>\r\n     </g>\r\n     <g id=\"text_9\">\r\n      <!-- 0.02 -->\r\n      <g transform=\"translate(15.579688 80.184673)scale(0.1 -0.1)\">\r\n       <use xlink:href=\"#DejaVuSans-48\"/>\r\n       <use x=\"63.623047\" xlink:href=\"#DejaVuSans-46\"/>\r\n       <use x=\"95.410156\" xlink:href=\"#DejaVuSans-48\"/>\r\n       <use x=\"159.033203\" xlink:href=\"#DejaVuSans-50\"/>\r\n      </g>\r\n     </g>\r\n    </g>\r\n    <g id=\"ytick_5\">\r\n     <g id=\"line2d_10\">\r\n      <g>\r\n       <use style=\"stroke:#000000;stroke-width:0.8;\" x=\"44.845313\" xlink:href=\"#m3775380a43\" y=\"36.850909\"/>\r\n      </g>\r\n     </g>\r\n     <g id=\"text_10\">\r\n      <!-- 0.04 -->\r\n      <g transform=\"translate(15.579688 40.650128)scale(0.1 -0.1)\">\r\n       <use xlink:href=\"#DejaVuSans-48\"/>\r\n       <use x=\"63.623047\" xlink:href=\"#DejaVuSans-46\"/>\r\n       <use x=\"95.410156\" xlink:href=\"#DejaVuSans-48\"/>\r\n       <use x=\"159.033203\" xlink:href=\"#DejaVuSans-52\"/>\r\n      </g>\r\n     </g>\r\n    </g>\r\n   </g>\r\n   <g id=\"line2d_11\"/>\r\n   <g id=\"patch_3\">\r\n    <path d=\"M 44.845313 224.64 \r\nL 44.845313 7.2 \r\n\" style=\"fill:none;stroke:#000000;stroke-linecap:square;stroke-linejoin:miter;stroke-width:0.8;\"/>\r\n   </g>\r\n   <g id=\"patch_4\">\r\n    <path d=\"M 379.645313 224.64 \r\nL 379.645313 7.2 \r\n\" style=\"fill:none;stroke:#000000;stroke-linecap:square;stroke-linejoin:miter;stroke-width:0.8;\"/>\r\n   </g>\r\n   <g id=\"patch_5\">\r\n    <path d=\"M 44.845313 224.64 \r\nL 379.645313 224.64 \r\n\" style=\"fill:none;stroke:#000000;stroke-linecap:square;stroke-linejoin:miter;stroke-width:0.8;\"/>\r\n   </g>\r\n   <g id=\"patch_6\">\r\n    <path d=\"M 44.845313 7.2 \r\nL 379.645313 7.2 \r\n\" style=\"fill:none;stroke:#000000;stroke-linecap:square;stroke-linejoin:miter;stroke-width:0.8;\"/>\r\n   </g>\r\n  </g>\r\n </g>\r\n</svg>\r\n",
      "image/png": "[encoded data removed]"
     },
     "metadata": {
      "needs_background": "light"
     }
    }
   ],
   "source": [
    "# If you like tensorflow\n",
    "# from approximator_tf import Approximator\n",
    "# If you like pytorch (Recommend)\n",
    "from approximator_torch import Approximator\n",
    "\n",
    "env = gym.make('CartPole-v1')\n",
    "\n",
    "gamma = 0.95 # discounting rate\n",
    "\n",
    "action_size = env.action_space.n\n",
    "state_size = env.observation_space.shape[0]\n",
    "print(state_size,action_size)\n",
    "\n",
    "# tune the learning_rate and total_episode yourself\n",
    "# remember how learning_rate can influence the training for NNs?\n",
    "learning_rate = 0.01\n",
    "total_episode = 100\n",
    "# begin answer\n",
    "# end answer\n",
    "model = Approximator(state_size, action_size,\n",
    "                     learning_rate=learning_rate, memory_pool_size=10000, batch_size=20)\n",
    "\n",
    "model.train(env, total_episode)\n",
    "# plot to see the training rewards of each episode\n",
    "plt.plot(np.arange(len(model.reward_list)), np.array(model.reward_list))\n",
    "plt.show()\n"
   ]
  },
  {
   "cell_type": "markdown",
   "metadata": {},
   "source": [
    "## (Optional) Deep Q-Learning"
   ]
  },
  {
   "cell_type": "markdown",
   "metadata": {},
   "source": [
    "Observe how linear approximator struggles to learn a good q-function for this task. The reason might be that the Q function for this problem should be a highly non-linear function; thus a linear approximator cannot approximate it well. We should use a more complex approximator. **In many cases, when you want to use a complex approximator, you should consider about neural networks.**\n",
    "\n",
    "Now we will try to use neural networks as approximator. Feel free to use TensorFlow or Pytorch or even the code you have written in **Assignment3** to implement. Update your Approximator class to use a neural network as the approximator, and rerun the cell above.\n",
    "\n",
    "Use a simple network should be enough for this a task. An example can be:\n",
    "\n",
    "State->FC->Relu->FC->Relu->FC->QValue\n",
    "\n",
    "You can decide the number of neurons yourself, but 64 should be enough.\n",
    "\n",
    "### TODO: implement a neural network in your Approximator class"
   ]
  },
  {
   "cell_type": "markdown",
   "metadata": {},
   "source": [
    "## Experience Replay\n",
    "\n",
    "Disappointedly, you may find that the approximator still struggle to converge and get good results. There are several potential reasons for this phenomenon. One reason is that the *new_state* is generated from current *state*, which violates the i.i.d assumption in supervised learning. And this may easily lead to bad convergence performance. One popular strategy for improving the convergence rate and making data more i.i.d is **experience replay**.\n",
    "\n",
    "Basically, when using **experience replay**, we would like to keep a memory pool filled with the experience the agent had before. More specifically, we would save the *(state, action, reward, new_state, done)* tuple in a memory pool, which denotes the previous experience. For each step of training, we sample a batch of experiences from the memory pool, and train the approximator with this batch. This can be seen as replaying a batch of previous experiences. Also, we would generate a new experience according to the current state and the approximator, and add this new experience to the memory pool.\n",
    "\n",
    "Note that in this case, the experience an agent has can be used to train the approximator multiple times. In some real-world applications, the experience may be very expensive to gain, and thus experience replay enables a more efficient use of previous experience. Also, as approximator is trained with a batch, the SGD optimizer typically converges more fast.\n",
    "\n",
    "### TODO: implement experience replay in your Approximator class\n",
    "Now please complete the **experience_replay** function in your Approximator class, and retrain the approximator. This time, you should find that the approximator can get pretty reasonable results. Check the average reward for each episode below."
   ]
  },
  {
   "cell_type": "code",
   "execution_count": null,
   "metadata": {
    "scrolled": true
   },
   "outputs": [],
   "source": [
    "reward_list = model.eval(env, 100)"
   ]
  },
  {
   "cell_type": "markdown",
   "metadata": {},
   "source": [
    "Also, it may be interesting to have a look at a demo."
   ]
  },
  {
   "cell_type": "code",
   "execution_count": null,
   "metadata": {},
   "outputs": [],
   "source": [
    "env = gym.make('CartPole-v1')\n",
    "state = env.reset()\n",
    "\n",
    "while True:\n",
    "    plt.imshow(env.render(mode='rgb_array'))\n",
    "    display(plt.gcf())    \n",
    "    clear_output(wait=True)\n",
    "    action = model.take_action(state)\n",
    "    new_state, reward, done, info = env.step(action)\n",
    "    state = new_state\n",
    "    if done:\n",
    "        break\n",
    "\n",
    "env.close()"
   ]
  },
  {
   "cell_type": "markdown",
   "metadata": {},
   "source": [
    "## (Optional) Double Q-Learning\n",
    "\n",
    "As we only use the same model to both determine the greedy policy and to determine its value, sometimes the model may learn unrealistically high action values because it includes a maximization step over estimated action values, which tends to prefer over-estimated to underestimated values. Imagine that the model learns an over-estimated value for one action, then this action is very more likely to be selected. Further, as the values are estimated with the same model, the updated value for this action is still over-estimated, which makes the other actions difficult to be explored and updated. As a result, the convergence may be slowed down, and even the performance of the final model may be harmed.\n",
    "\n",
    "As can be seen, the over-estimated problem is partly caused by using the same model to determine the policy and value. Then how can we address this problem? A natural idea is to decouple these two steps by using two different models to determine the policy and value respectively. This is called **double Q-learning**. We call the model that determine the policy as Policy Model and the model that determine the value as Value Model. To avoid introduce an additional network, a very smart trick is like this: when training the models with one episode, we freeze the Value Model and update only the Policy Model. After one episode is trained, we update the Value Model with the weights of the Policy Model. Alternatively, we can update the Value Model with the weights of Policy Model periodically (say, 500 iterations). Although the Policy Model and the Value Model are not fully decoupled in this way, this approach is simple to implement and avoid further network designs. As you will see, this works well in practice.\n",
    "\n",
    "### TODO: implement double Q-learning in your Approximator class\n",
    "\n",
    "After implementing the double Q-learning, train another approximator and compare the performance with previous one."
   ]
  },
  {
   "cell_type": "code",
   "execution_count": null,
   "metadata": {
    "scrolled": true
   },
   "outputs": [],
   "source": [
    "env = gym.make('CartPole-v1')\n",
    "\n",
    "# tune the learning_rate yourself\n",
    "# remember how learning_rate can influence the training for NNs?\n",
    "learning_rate = 0.01\n",
    "# begin answer\n",
    "# end answer\n",
    "model = Approximator(state_size, action_size,\n",
    "                     learning_rate=learning_rate,\n",
    "                     memory_pool_size=10000,\n",
    "                     batch_size=20,\n",
    "                     double_QLearning=True)\n",
    "\n",
    "model.train(env, total_episode)\n",
    "# plot to see the training rewards of each episode\n",
    "plt.plot(np.arange(len(model.reward_list)), np.array(model.reward_list))\n",
    "plt.show()"
   ]
  },
  {
   "cell_type": "markdown",
   "metadata": {},
   "source": [
    "Check the average rewards"
   ]
  },
  {
   "cell_type": "code",
   "execution_count": null,
   "metadata": {
    "scrolled": true
   },
   "outputs": [],
   "source": [
    "reward_list = model.eval(env, 100)"
   ]
  },
  {
   "cell_type": "markdown",
   "metadata": {},
   "source": [
    "Have a look at the demo."
   ]
  },
  {
   "cell_type": "code",
   "execution_count": 36,
   "metadata": {},
   "outputs": [
    {
     "output_type": "error",
     "ename": "NameError",
     "evalue": "name 'model' is not defined",
     "traceback": [
      "\u001b[1;31m---------------------------------------------------------------------------\u001b[0m",
      "\u001b[1;31mNameError\u001b[0m                                 Traceback (most recent call last)",
      "\u001b[1;32m<ipython-input-36-c0cd29d1ac1a>\u001b[0m in \u001b[0;36m<module>\u001b[1;34m\u001b[0m\n\u001b[0;32m      7\u001b[0m     \u001b[0mclear_output\u001b[0m\u001b[1;33m(\u001b[0m\u001b[0mwait\u001b[0m\u001b[1;33m=\u001b[0m\u001b[1;32mTrue\u001b[0m\u001b[1;33m)\u001b[0m\u001b[1;33m\u001b[0m\u001b[1;33m\u001b[0m\u001b[0m\n\u001b[0;32m      8\u001b[0m     \u001b[0mstate\u001b[0m \u001b[1;33m=\u001b[0m \u001b[0mnp\u001b[0m\u001b[1;33m.\u001b[0m\u001b[0mexpand_dims\u001b[0m\u001b[1;33m(\u001b[0m\u001b[0mstate\u001b[0m\u001b[1;33m,\u001b[0m \u001b[0maxis\u001b[0m\u001b[1;33m=\u001b[0m\u001b[1;36m0\u001b[0m\u001b[1;33m)\u001b[0m\u001b[1;33m\u001b[0m\u001b[1;33m\u001b[0m\u001b[0m\n\u001b[1;32m----> 9\u001b[1;33m     \u001b[0maction\u001b[0m \u001b[1;33m=\u001b[0m \u001b[0mmodel\u001b[0m\u001b[1;33m.\u001b[0m\u001b[0mtake_action\u001b[0m\u001b[1;33m(\u001b[0m\u001b[0mstate\u001b[0m\u001b[1;33m)\u001b[0m\u001b[1;33m\u001b[0m\u001b[1;33m\u001b[0m\u001b[0m\n\u001b[0m\u001b[0;32m     10\u001b[0m     \u001b[0mnew_state\u001b[0m\u001b[1;33m,\u001b[0m \u001b[0mreward\u001b[0m\u001b[1;33m,\u001b[0m \u001b[0mdone\u001b[0m\u001b[1;33m,\u001b[0m \u001b[0minfo\u001b[0m \u001b[1;33m=\u001b[0m \u001b[0menv\u001b[0m\u001b[1;33m.\u001b[0m\u001b[0mstep\u001b[0m\u001b[1;33m(\u001b[0m\u001b[0maction\u001b[0m\u001b[1;33m)\u001b[0m\u001b[1;33m\u001b[0m\u001b[1;33m\u001b[0m\u001b[0m\n\u001b[0;32m     11\u001b[0m     \u001b[0mstate\u001b[0m \u001b[1;33m=\u001b[0m \u001b[0mnew_state\u001b[0m\u001b[1;33m\u001b[0m\u001b[1;33m\u001b[0m\u001b[0m\n",
      "\u001b[1;31mNameError\u001b[0m: name 'model' is not defined"
     ]
    }
   ],
   "source": [
    "env = gym.make('CartPole-v1')\n",
    "state = env.reset()\n",
    "\n",
    "while True:\n",
    "    plt.imshow(env.render(mode='rgb_array'))\n",
    "    display(plt.gcf())    \n",
    "    clear_output(wait=True)\n",
    "    state = np.expand_dims(state, axis=0)\n",
    "    action = model.take_action(state)\n",
    "    new_state, reward, done, info = env.step(action)\n",
    "    state = new_state\n",
    "    if done:\n",
    "        break\n",
    "\n",
    "env.close()"
   ]
  },
  {
   "cell_type": "markdown",
   "metadata": {},
   "source": [
    "Congratulations! You have finished the journey of reinforcement learning here. There are also some other environments available in *gym* for you to play with. Equipped with the techniques you have learned so far, just feel free to play with them if interested.\n",
    "\n",
    "Actually, you have learned many practical techniques for reinforcement learning. Theortically, you can even build some famous systems such as AlphaGo mainly based on these techniques :) In AlphaGo, Atari, and many other real-world applications, the agents need to deal with the image/video input. Thus it is naturally to use CNNs as approximators. There are also some other techniques used in these systems, such as Monte Carlo Tree Search in AlphaGo, but the big pictures are similar.\n",
    "\n",
    "To apply reinforcement learning in real-world problems, there are many other difficulties. I think the biggest challenge may be how to formulate your problems. What are the states? What are the rewards? Are they reasonable enough? How to gain experience? Unlike the environment in this notebook, in real world, these problems are often undefined. You need to formulate them yourself. Another challenge may be that the hyperparameters tuning would be quite difficult, even more difficult than CNNs/RNNs for some typical supervised/unsupervised learning problems. It requires some experience and practice :)\n",
    "\n",
    "This may be the last assignment for this course. Thank you for participating our course and completing our assignments :)"
   ]
  }
 ],
 "metadata": {
  "kernelspec": {
   "display_name": "Python 3",
   "language": "python",
   "name": "python3"
  },
  "language_info": {
   "codemirror_mode": {
    "name": "ipython",
    "version": 3
   },
   "file_extension": ".py",
   "mimetype": "text/x-python",
   "name": "python",
   "nbconvert_exporter": "python",
   "pygments_lexer": "ipython3",
   "version": "3.8.6-final"
  }
 },
 "nbformat": 4,
 "nbformat_minor": 2
}